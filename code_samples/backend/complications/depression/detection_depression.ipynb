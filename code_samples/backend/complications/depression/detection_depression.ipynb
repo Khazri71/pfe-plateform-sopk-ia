{
 "cells": [
  {
   "cell_type": "code",
   "execution_count": 1,
   "metadata": {},
   "outputs": [
    {
     "data": {
      "text/html": [
       "<div>\n",
       "<style scoped>\n",
       "    .dataframe tbody tr th:only-of-type {\n",
       "        vertical-align: middle;\n",
       "    }\n",
       "\n",
       "    .dataframe tbody tr th {\n",
       "        vertical-align: top;\n",
       "    }\n",
       "\n",
       "    .dataframe thead th {\n",
       "        text-align: right;\n",
       "    }\n",
       "</style>\n",
       "<table border=\"1\" class=\"dataframe\">\n",
       "  <thead>\n",
       "    <tr style=\"text-align: right;\">\n",
       "      <th></th>\n",
       "      <th>Unnamed: 0</th>\n",
       "      <th>content</th>\n",
       "    </tr>\n",
       "  </thead>\n",
       "  <tbody>\n",
       "    <tr>\n",
       "      <th>0</th>\n",
       "      <td>0</td>\n",
       "      <td>rt doreencaven fear people watch many performa...</td>\n",
       "    </tr>\n",
       "    <tr>\n",
       "      <th>1</th>\n",
       "      <td>1</td>\n",
       "      <td>rt karoromitchelle spend rest trapped sneaky l...</td>\n",
       "    </tr>\n",
       "    <tr>\n",
       "      <th>2</th>\n",
       "      <td>2</td>\n",
       "      <td>rt urgent appeal action express much feel man ...</td>\n",
       "    </tr>\n",
       "    <tr>\n",
       "      <th>3</th>\n",
       "      <td>5</td>\n",
       "      <td>rt shivanyasitole supreme god kabir god kabir ...</td>\n",
       "    </tr>\n",
       "    <tr>\n",
       "      <th>4</th>\n",
       "      <td>6</td>\n",
       "      <td>rt trust im leaving staying staying always wis...</td>\n",
       "    </tr>\n",
       "    <tr>\n",
       "      <th>...</th>\n",
       "      <td>...</td>\n",
       "      <td>...</td>\n",
       "    </tr>\n",
       "    <tr>\n",
       "      <th>12301</th>\n",
       "      <td>18573</td>\n",
       "      <td>catasters</td>\n",
       "    </tr>\n",
       "    <tr>\n",
       "      <th>12302</th>\n",
       "      <td>18574</td>\n",
       "      <td>zegalbamount fuji seen international space sta...</td>\n",
       "    </tr>\n",
       "    <tr>\n",
       "      <th>12303</th>\n",
       "      <td>18575</td>\n",
       "      <td>thehopefulquotes loving someone mean taking ri...</td>\n",
       "    </tr>\n",
       "    <tr>\n",
       "      <th>12304</th>\n",
       "      <td>18576</td>\n",
       "      <td>perfectfeelings want talk happened without men...</td>\n",
       "    </tr>\n",
       "    <tr>\n",
       "      <th>12305</th>\n",
       "      <td>18577</td>\n",
       "      <td>perfeqt always end day positive thought matter...</td>\n",
       "    </tr>\n",
       "  </tbody>\n",
       "</table>\n",
       "<p>12306 rows × 2 columns</p>\n",
       "</div>"
      ],
      "text/plain": [
       "       Unnamed: 0                                            content\n",
       "0               0  rt doreencaven fear people watch many performa...\n",
       "1               1  rt karoromitchelle spend rest trapped sneaky l...\n",
       "2               2  rt urgent appeal action express much feel man ...\n",
       "3               5  rt shivanyasitole supreme god kabir god kabir ...\n",
       "4               6  rt trust im leaving staying staying always wis...\n",
       "...           ...                                                ...\n",
       "12301       18573                                          catasters\n",
       "12302       18574  zegalbamount fuji seen international space sta...\n",
       "12303       18575  thehopefulquotes loving someone mean taking ri...\n",
       "12304       18576  perfectfeelings want talk happened without men...\n",
       "12305       18577  perfeqt always end day positive thought matter...\n",
       "\n",
       "[12306 rows x 2 columns]"
      ]
     },
     "execution_count": 1,
     "metadata": {},
     "output_type": "execute_result"
    }
   ],
   "source": [
    "# Lit le fichier CSV  et le charge dans un DataFrame 'df'\n",
    "import pandas as pd\n",
    "df= pd.read_csv(\"Dataset_Depression_finale.csv\")\n",
    "df"
   ]
  },
  {
   "cell_type": "code",
   "execution_count": 2,
   "metadata": {},
   "outputs": [
    {
     "name": "stdout",
     "output_type": "stream",
     "text": [
      "<class 'pandas.core.frame.DataFrame'>\n",
      "RangeIndex: 12306 entries, 0 to 12305\n",
      "Data columns (total 2 columns):\n",
      " #   Column      Non-Null Count  Dtype \n",
      "---  ------      --------------  ----- \n",
      " 0   Unnamed: 0  12306 non-null  int64 \n",
      " 1   content     12299 non-null  object\n",
      "dtypes: int64(1), object(1)\n",
      "memory usage: 192.4+ KB\n"
     ]
    }
   ],
   "source": [
    "df.info()"
   ]
  },
  {
   "cell_type": "code",
   "execution_count": 3,
   "metadata": {},
   "outputs": [
    {
     "data": {
      "text/plain": [
       "count              12299\n",
       "unique             12011\n",
       "top       mental illness\n",
       "freq                  17\n",
       "Name: content, dtype: object"
      ]
     },
     "execution_count": 3,
     "metadata": {},
     "output_type": "execute_result"
    }
   ],
   "source": [
    "df['content'].describe()"
   ]
  },
  {
   "cell_type": "code",
   "execution_count": 4,
   "metadata": {},
   "outputs": [
    {
     "data": {
      "text/plain": [
       "np.int64(7)"
      ]
     },
     "execution_count": 4,
     "metadata": {},
     "output_type": "execute_result"
    }
   ],
   "source": [
    "df['content'].isnull().sum()"
   ]
  },
  {
   "cell_type": "code",
   "execution_count": 5,
   "metadata": {},
   "outputs": [],
   "source": [
    "df.dropna(inplace=True)"
   ]
  },
  {
   "cell_type": "code",
   "execution_count": 6,
   "metadata": {},
   "outputs": [
    {
     "data": {
      "text/plain": [
       "np.int64(0)"
      ]
     },
     "execution_count": 6,
     "metadata": {},
     "output_type": "execute_result"
    }
   ],
   "source": [
    "df['content'].isnull().sum()"
   ]
  },
  {
   "cell_type": "code",
   "execution_count": 7,
   "metadata": {},
   "outputs": [
    {
     "name": "stdout",
     "output_type": "stream",
     "text": [
      "                Statistique   Valeur\n",
      "     Nombre total de textes 12299.00\n",
      "Longueur moyenne des textes    90.65\n",
      "       Nombre moyen de mots    13.16\n",
      "    Longueur max des textes  1298.00\n",
      "    Longueur min des textes     2.00\n",
      "         Vocabulaire unique 26619.00\n"
     ]
    }
   ],
   "source": [
    "# Colonnes utiles\n",
    "df['text_length'] = df['content'].apply(len)\n",
    "df['word_count'] = df['content'].apply(lambda x: len(x.split()))\n",
    "\n",
    "# Tableau de statistiques simplifié\n",
    "summary_table = pd.DataFrame({\n",
    "    'Statistique': [\n",
    "        'Nombre total de textes',\n",
    "        'Longueur moyenne des textes',\n",
    "        'Nombre moyen de mots',\n",
    "        'Longueur max des textes',\n",
    "        'Longueur min des textes',\n",
    "        'Vocabulaire unique',\n",
    "       \n",
    "    ],\n",
    "    'Valeur': [\n",
    "        len(df),\n",
    "        round(df['text_length'].mean(), 2),\n",
    "        round(df['word_count'].mean(), 2),\n",
    "        df['text_length'].max(),\n",
    "        df['text_length'].min(),\n",
    "        len(set(' '.join(df['content']).split())),\n",
    "        # df['sentiment'].value_counts().to_dict()\n",
    "    ]\n",
    "})\n",
    "\n",
    "print(summary_table.to_string(index=False))"
   ]
  },
  {
   "cell_type": "code",
   "execution_count": null,
   "metadata": {},
   "outputs": [
    {
     "name": "stdout",
     "output_type": "stream",
     "text": [
      "Déprimé\n",
      "Non Déprimé\n"
     ]
    }
   ],
   "source": [
    "from vaderSentiment.vaderSentiment import SentimentIntensityAnalyzer\n",
    "def analyze_sentiment(text):\n",
    "    analyzer = SentimentIntensityAnalyzer()\n",
    "    sentiment_score = analyzer.polarity_scores(text)['compound']\n",
    "    return \"Déprimé\" if sentiment_score < -0.2 else \"Non Déprimé\"\n",
    "\n",
    "# Exemple avec des textes en anglais\n",
    "print(analyze_sentiment(\"I feel terrible today...\"))  # Déprimé\n",
    "print(analyze_sentiment(\"I am so excited for the weekend!\"))  # Non déprimé"
   ]
  },
  {
   "cell_type": "code",
   "execution_count": 9,
   "metadata": {},
   "outputs": [],
   "source": [
    "# Ajouter une colonne \"Label\"\n",
    "df[\"label\"] = df[\"content\"].apply(analyze_sentiment)"
   ]
  },
  {
   "cell_type": "code",
   "execution_count": 10,
   "metadata": {},
   "outputs": [
    {
     "data": {
      "text/html": [
       "<div>\n",
       "<style scoped>\n",
       "    .dataframe tbody tr th:only-of-type {\n",
       "        vertical-align: middle;\n",
       "    }\n",
       "\n",
       "    .dataframe tbody tr th {\n",
       "        vertical-align: top;\n",
       "    }\n",
       "\n",
       "    .dataframe thead th {\n",
       "        text-align: right;\n",
       "    }\n",
       "</style>\n",
       "<table border=\"1\" class=\"dataframe\">\n",
       "  <thead>\n",
       "    <tr style=\"text-align: right;\">\n",
       "      <th></th>\n",
       "      <th>Unnamed: 0</th>\n",
       "      <th>content</th>\n",
       "      <th>text_length</th>\n",
       "      <th>word_count</th>\n",
       "      <th>label</th>\n",
       "    </tr>\n",
       "  </thead>\n",
       "  <tbody>\n",
       "    <tr>\n",
       "      <th>0</th>\n",
       "      <td>0</td>\n",
       "      <td>rt doreencaven fear people watch many performa...</td>\n",
       "      <td>107</td>\n",
       "      <td>14</td>\n",
       "      <td>Non Déprimé</td>\n",
       "    </tr>\n",
       "    <tr>\n",
       "      <th>1</th>\n",
       "      <td>1</td>\n",
       "      <td>rt karoromitchelle spend rest trapped sneaky l...</td>\n",
       "      <td>84</td>\n",
       "      <td>12</td>\n",
       "      <td>Non Déprimé</td>\n",
       "    </tr>\n",
       "    <tr>\n",
       "      <th>2</th>\n",
       "      <td>2</td>\n",
       "      <td>rt urgent appeal action express much feel man ...</td>\n",
       "      <td>58</td>\n",
       "      <td>10</td>\n",
       "      <td>Non Déprimé</td>\n",
       "    </tr>\n",
       "    <tr>\n",
       "      <th>3</th>\n",
       "      <td>5</td>\n",
       "      <td>rt shivanyasitole supreme god kabir god kabir ...</td>\n",
       "      <td>73</td>\n",
       "      <td>12</td>\n",
       "      <td>Non Déprimé</td>\n",
       "    </tr>\n",
       "    <tr>\n",
       "      <th>4</th>\n",
       "      <td>6</td>\n",
       "      <td>rt trust im leaving staying staying always wis...</td>\n",
       "      <td>67</td>\n",
       "      <td>11</td>\n",
       "      <td>Non Déprimé</td>\n",
       "    </tr>\n",
       "    <tr>\n",
       "      <th>...</th>\n",
       "      <td>...</td>\n",
       "      <td>...</td>\n",
       "      <td>...</td>\n",
       "      <td>...</td>\n",
       "      <td>...</td>\n",
       "    </tr>\n",
       "    <tr>\n",
       "      <th>12301</th>\n",
       "      <td>18573</td>\n",
       "      <td>catasters</td>\n",
       "      <td>9</td>\n",
       "      <td>1</td>\n",
       "      <td>Non Déprimé</td>\n",
       "    </tr>\n",
       "    <tr>\n",
       "      <th>12302</th>\n",
       "      <td>18574</td>\n",
       "      <td>zegalbamount fuji seen international space sta...</td>\n",
       "      <td>50</td>\n",
       "      <td>6</td>\n",
       "      <td>Non Déprimé</td>\n",
       "    </tr>\n",
       "    <tr>\n",
       "      <th>12303</th>\n",
       "      <td>18575</td>\n",
       "      <td>thehopefulquotes loving someone mean taking ri...</td>\n",
       "      <td>194</td>\n",
       "      <td>30</td>\n",
       "      <td>Non Déprimé</td>\n",
       "    </tr>\n",
       "    <tr>\n",
       "      <th>12304</th>\n",
       "      <td>18576</td>\n",
       "      <td>perfectfeelings want talk happened without men...</td>\n",
       "      <td>270</td>\n",
       "      <td>45</td>\n",
       "      <td>Non Déprimé</td>\n",
       "    </tr>\n",
       "    <tr>\n",
       "      <th>12305</th>\n",
       "      <td>18577</td>\n",
       "      <td>perfeqt always end day positive thought matter...</td>\n",
       "      <td>270</td>\n",
       "      <td>41</td>\n",
       "      <td>Non Déprimé</td>\n",
       "    </tr>\n",
       "  </tbody>\n",
       "</table>\n",
       "<p>12299 rows × 5 columns</p>\n",
       "</div>"
      ],
      "text/plain": [
       "       Unnamed: 0                                            content  \\\n",
       "0               0  rt doreencaven fear people watch many performa...   \n",
       "1               1  rt karoromitchelle spend rest trapped sneaky l...   \n",
       "2               2  rt urgent appeal action express much feel man ...   \n",
       "3               5  rt shivanyasitole supreme god kabir god kabir ...   \n",
       "4               6  rt trust im leaving staying staying always wis...   \n",
       "...           ...                                                ...   \n",
       "12301       18573                                          catasters   \n",
       "12302       18574  zegalbamount fuji seen international space sta...   \n",
       "12303       18575  thehopefulquotes loving someone mean taking ri...   \n",
       "12304       18576  perfectfeelings want talk happened without men...   \n",
       "12305       18577  perfeqt always end day positive thought matter...   \n",
       "\n",
       "       text_length  word_count        label  \n",
       "0              107          14  Non Déprimé  \n",
       "1               84          12  Non Déprimé  \n",
       "2               58          10  Non Déprimé  \n",
       "3               73          12  Non Déprimé  \n",
       "4               67          11  Non Déprimé  \n",
       "...            ...         ...          ...  \n",
       "12301            9           1  Non Déprimé  \n",
       "12302           50           6  Non Déprimé  \n",
       "12303          194          30  Non Déprimé  \n",
       "12304          270          45  Non Déprimé  \n",
       "12305          270          41  Non Déprimé  \n",
       "\n",
       "[12299 rows x 5 columns]"
      ]
     },
     "execution_count": 10,
     "metadata": {},
     "output_type": "execute_result"
    }
   ],
   "source": [
    "df"
   ]
  },
  {
   "cell_type": "code",
   "execution_count": 11,
   "metadata": {},
   "outputs": [
    {
     "data": {
      "text/plain": [
       "label\n",
       "Non Déprimé    7315\n",
       "Déprimé        4984\n",
       "Name: count, dtype: int64"
      ]
     },
     "execution_count": 11,
     "metadata": {},
     "output_type": "execute_result"
    }
   ],
   "source": [
    "vals_cible = df['label'].value_counts()\n",
    "vals_cible"
   ]
  },
  {
   "cell_type": "code",
   "execution_count": 12,
   "metadata": {},
   "outputs": [
    {
     "data": {
      "image/png": "[encoded data removed]",
      "text/plain": [
       "<Figure size 640x480 with 1 Axes>"
      ]
     },
     "metadata": {},
     "output_type": "display_data"
    }
   ],
   "source": [
    "import matplotlib.pyplot as plt\n",
    "\n",
    "vals_cible.plot(kind='pie', autopct='%1.1f%%', colors=['red', 'blue'] )\n",
    "plt.title(\"Répartition des sentiments\")\n",
    "plt.ylabel('')  # Pour enlever l'axe Y\n",
    "plt.show()"
   ]
  },
  {
   "cell_type": "code",
   "execution_count": 13,
   "metadata": {},
   "outputs": [],
   "source": [
    "# minority_class_size = vals_cible['Déprimé']  # 4984\n",
    "\n",
    "# # Séparer les classes\n",
    "# df_deprime = df[df['label'] == 'Déprimé']\n",
    "# df_non_deprime = df[df['label'] == 'Non Déprimé'].sample(n=minority_class_size, random_state=42)\n",
    "\n",
    "# # Réassembler le dataset équilibré\n",
    "# df_balanced = pd.concat([df_deprime, df_non_deprime])\n",
    "# df = df_balanced\n"
   ]
  },
  {
   "cell_type": "code",
   "execution_count": 14,
   "metadata": {},
   "outputs": [
    {
     "data": {
      "text/plain": [
       "label\n",
       "Non Déprimé    7315\n",
       "Déprimé        4984\n",
       "Name: count, dtype: int64"
      ]
     },
     "execution_count": 14,
     "metadata": {},
     "output_type": "execute_result"
    }
   ],
   "source": [
    "vals_cible = df['label'].value_counts()\n",
    "vals_cible"
   ]
  },
  {
   "cell_type": "code",
   "execution_count": 15,
   "metadata": {},
   "outputs": [
    {
     "data": {
      "image/png": "[encoded data removed]",
      "text/plain": [
       "<Figure size 640x480 with 1 Axes>"
      ]
     },
     "metadata": {},
     "output_type": "display_data"
    }
   ],
   "source": [
    "import matplotlib.pyplot as plt\n",
    "\n",
    "vals_cible.plot(kind='pie', autopct='%1.1f%%'  , colors=['red', 'blue'])\n",
    "plt.title(\"Répartition des sentiments\")\n",
    "plt.ylabel('')  # Pour enlever l'axe Y\n",
    "plt.show()"
   ]
  },
  {
   "cell_type": "code",
   "execution_count": 16,
   "metadata": {},
   "outputs": [
    {
     "data": {
      "image/png": "[encoded data removed]",
      "text/plain": [
       "<Figure size 1200x600 with 1 Axes>"
      ]
     },
     "metadata": {},
     "output_type": "display_data"
    }
   ],
   "source": [
    "import pandas as pd\n",
    "import seaborn as sns\n",
    "import matplotlib.pyplot as plt\n",
    "import re\n",
    "\n",
    "# Nettoyage des colonnes inutiles\n",
    "df = df.drop(columns=[\"Unnamed: 0\"], errors=\"ignore\")\n",
    "df = df.drop(columns=[\"label\"], errors=\"ignore\")\n",
    "\n",
    "# Calcul des métriques\n",
    "df[\"length_chars\"] = df[\"content\"].str.len()\n",
    "df[\"length_words\"] = df[\"content\"].apply(lambda x: len(str(x).split()))\n",
    "df[\"noise_ratio\"] = df[\"content\"].apply(lambda x: len(re.findall(r\"[^a-zA-Z0-9\\s]\", str(x))) / max(1, len(str(x))))\n",
    "\n",
    "# Transformation du dataframe au format long\n",
    "df_long = pd.melt(df, value_vars=[\"length_chars\", \"length_words\", \"noise_ratio\"],\n",
    "                  var_name=\"Mesure\", value_name=\"Valeur\")\n",
    "\n",
    "# Affichage des boxplots sur un seul graphe\n",
    "plt.figure(figsize=(12, 6))\n",
    "sns.boxplot(x=\"Mesure\", y=\"Valeur\", data=df_long)\n",
    "plt.title(\"Distribution des longueurs et du taux de bruit\")\n",
    "plt.grid(True)\n",
    "plt.show()\n"
   ]
  },
  {
   "cell_type": "code",
   "execution_count": null,
   "metadata": {},
   "outputs": [],
   "source": [
    "import pandas as pd\n",
    "from sklearn.model_selection import train_test_split\n",
    "from sklearn.preprocessing import LabelEncoder\n",
    "from sklearn.feature_extraction.text import TfidfVectorizer\n",
    "from vaderSentiment.vaderSentiment import SentimentIntensityAnalyzer"
   ]
  },
  {
   "cell_type": "code",
   "execution_count": null,
   "metadata": {},
   "outputs": [
    {
     "name": "stdout",
     "output_type": "stream",
     "text": [
      "Shape de x_train: (9839, 26394)\n",
      "Shape de x_test: (2460, 26394)\n",
      "Shape de y_train: (9839,)\n",
      "Shape de y_test: (2460,)\n"
     ]
    }
   ],
   "source": [
    "# Séparer les données en X (texte) et y (labels)\n",
    "x = df['content']\n",
    "y = df['label']\n",
    "# 1) Label Encoding : Encodage des labels en numérique\n",
    "label_encoder = LabelEncoder()\n",
    "y = label_encoder.fit_transform(df['label'])  # Encode les labels en valeurs numériques\n",
    "# 2) TF-IDF Vectorization : Conversion du texte en vecteurs numériques\n",
    "tfidf_vectorizer = TfidfVectorizer(stop_words='english')  # Stop words pour exclure les mots fréquents\n",
    "x = tfidf_vectorizer.fit_transform(df['content'])  # Transforme le texte en vecteurs\n",
    "\n",
    "\n",
    "\n",
    "# 3) Division des données : Séparer en train et test\n",
    "x_train, x_test, y_train, y_test = train_test_split(x, y, test_size=0.2, random_state=42)\n",
    "\n",
    "# Afficher les résultats pour vérifier\n",
    "print(\"Shape de x_train:\", x_train.shape)\n",
    "print(\"Shape de x_test:\", x_test.shape)\n",
    "print(\"Shape de y_train:\", y_train.shape)\n",
    "print(\"Shape de y_test:\", y_test.shape)\n"
   ]
  },
  {
   "cell_type": "code",
   "execution_count": null,
   "metadata": {},
   "outputs": [],
   "source": [
    "import seaborn as sns\n",
    "from sklearn.naive_bayes import MultinomialNB\n",
    "from sklearn.linear_model import PassiveAggressiveClassifier, LogisticRegression\n",
    "from sklearn.svm import SVC\n",
    "from sklearn.ensemble import RandomForestClassifier\n",
    "from xgboost import XGBClassifier  # Ajout de XGBoost\n",
    "from sklearn.metrics import accuracy_score, classification_report, confusion_matrix"
   ]
  },
  {
   "cell_type": "code",
   "execution_count": null,
   "metadata": {},
   "outputs": [
    {
     "name": "stdout",
     "output_type": "stream",
     "text": [
      "Naïve Bayes - Accuracy: 78.33%\n",
      "Logistic Regression - Accuracy: 83.70%\n",
      "Passive Aggressive - Accuracy: 84.80%\n"
     ]
    },
    {
     "data": {
      "image/png": "[encoded data removed]",
      "text/plain": [
       "<Figure size 1000x600 with 1 Axes>"
      ]
     },
     "metadata": {},
     "output_type": "display_data"
    }
   ],
   "source": [
    "# Initialiser les modèles et  Entraîner les modèles\n",
    "na = MultinomialNB(alpha=0.5)\n",
    "na.fit(x_train, y_train)\n",
    "\n",
    "log_reg = LogisticRegression(max_iter=1000, C=1, penalty=\"l2\", solver=\"liblinear\")\n",
    "log_reg.fit(x_train, y_train)\n",
    "\n",
    "pac = PassiveAggressiveClassifier(C=1, max_iter=1000)\n",
    "pac.fit(x_train, y_train)\n",
    "\n",
    "rf = RandomForestClassifier(random_state=42, n_estimators=100, max_depth=20)\n",
    "rf.fit(x_train, y_train)\n",
    "\n",
    "svm = SVC(kernel=\"linear\", C=1)\n",
    "svm.fit(x_train, y_train)\n",
    "\n",
    "xgb = XGBClassifier(eval_metric=\"logloss\", n_estimators=100, max_depth=5, learning_rate=0.1)\n",
    "xgb.fit(x_train, y_train)\n",
    "\n",
    "# Liste des modèles avec leurs noms\n",
    "models = {\n",
    "    \"Naïve Bayes\": na,\n",
    "    \"Logistic Regression\": log_reg,\n",
    "    \"Passive Aggressive\": pac,\n",
    "}\n",
    "\n",
    "# Dictionnaire pour stocker les résultats de chaque modèle\n",
    "results = {}\n",
    "\n",
    "accuracy_results = {}  # Pour stocker l'accuracy de chaque modèle\n",
    "\n",
    "# Boucle sur chaque modèle\n",
    "for name, model in models.items():\n",
    "    # Entraînement\n",
    "    model.fit(x_train, y_train)\n",
    "    \n",
    "    # Prédictions sur l'ensemble de test\n",
    "    y_pred = model.predict(x_test)\n",
    "    \n",
    "    # Calcul des métriques\n",
    "    accuracy = accuracy_score(y_test, y_pred)\n",
    "    report = classification_report(y_test, y_pred, output_dict=True)\n",
    "    confusion = confusion_matrix(y_test, y_pred)\n",
    "    \n",
    "    # Sauvegarder les résultats\n",
    "    results[name] = {\n",
    "        \"accuracy\": accuracy,\n",
    "        \"f1_score\": report['weighted avg']['f1-score'],\n",
    "        \"recall\": report['weighted avg']['recall'],\n",
    "        \"precision\": report['weighted avg']['precision'],\n",
    "        \"confusion_matrix\": confusion\n",
    "    }\n",
    "    \n",
    "    # Sauvegarder l'accuracy dans accuracy_results pour afficher plus tard\n",
    "    accuracy_results[name] = accuracy  # Stocke l'accuracy du modèle\n",
    "    \n",
    "    # Affichage de l'accuracy\n",
    "    print(f\"{name} - Accuracy: {accuracy * 100:.2f}%\")\n",
    "\n",
    "# Maintenant, tu peux créer un graphique pour comparer l'accuracy de tous les modèles\n",
    "import matplotlib.pyplot as plt\n",
    "\n",
    "# Extraire les noms des modèles et les accuracies\n",
    "models = list(accuracy_results.keys())\n",
    "accuracies = list(accuracy_results.values())\n",
    "\n",
    "# Créer le diagramme en barres\n",
    "plt.figure(figsize=(10, 6))\n",
    "plt.bar(models, accuracies, color='skyblue')\n",
    "\n",
    "# Ajouter les titres et labels\n",
    "plt.title(\"Comparaison de l'Accuracy des Modèles\")\n",
    "plt.xlabel(\"Modèles\")\n",
    "plt.ylabel(\"Accuracy (%)\")\n",
    "\n",
    "# Afficher les valeurs des accuracies au-dessus de chaque barre\n",
    "for i, accuracy in enumerate(accuracies):\n",
    "    plt.text(i, accuracy + 0.01, f\"{accuracy * 100:.2f}%\", ha='center')\n",
    "\n",
    "# Afficher le graphique\n",
    "plt.show()\n"
   ]
  },
  {
   "cell_type": "code",
   "execution_count": null,
   "metadata": {},
   "outputs": [
    {
     "name": "stdout",
     "output_type": "stream",
     "text": [
      "                     accuracy  f1_score    recall precision\n",
      "Naïve Bayes          0.783333  0.775181  0.783333  0.787277\n",
      "Logistic Regression  0.836992  0.833027  0.836992  0.840241\n",
      "Passive Aggressive   0.847967  0.847565  0.847967  0.847391\n"
     ]
    },
    {
     "data": {
      "image/png": "[encoded data removed]",
      "text/plain": [
       "<Figure size 1500x1000 with 9 Axes>"
      ]
     },
     "metadata": {},
     "output_type": "display_data"
    }
   ],
   "source": [
    "# Afficher les métriques sous forme de DataFrame\n",
    "df_results = pd.DataFrame(results).T  # Transposer pour un affichage plus clair\n",
    "print(df_results[['accuracy', 'f1_score', 'recall', 'precision']])\n",
    "\n",
    "# Définir les noms des classes\n",
    "labels = [\"Non Déprimé\", \"Déprimé\"]\n",
    "\n",
    "# Afficher la matrice de confusion pour chaque modèle\n",
    "fig, axes = plt.subplots(2, 3, figsize=(15, 10))\n",
    "axes = axes.ravel()\n",
    "\n",
    "for i, (name, res) in enumerate(results.items()):\n",
    "    sns.heatmap(res[\"confusion_matrix\"], annot=True, fmt=\"d\", cmap=\"Blues\", \n",
    "                xticklabels=labels, yticklabels=labels, ax=axes[i])\n",
    "    axes[i].set_title(f\"Matrice de confusion - {name}\")\n",
    "    axes[i].set_xlabel(\"Prédictions\")\n",
    "    axes[i].set_ylabel(\"Réel\")\n",
    "\n",
    "plt.tight_layout()\n",
    "plt.show()"
   ]
  },
  {
   "cell_type": "code",
   "execution_count": null,
   "metadata": {},
   "outputs": [],
   "source": [
    "from sklearn.model_selection import train_test_split, GridSearchCV"
   ]
  },
  {
   "cell_type": "code",
   "execution_count": null,
   "metadata": {},
   "outputs": [],
   "source": [
    "\n",
    "# # Définition des modèles et des hyperparamètres pour GridSearchCV\n",
    "# param_grid = {\n",
    "#     \"Naïve Bayes\": (MultinomialNB(), {\n",
    "#         \"alpha\": [0.5, 1.0]  # Moins de valeurs testées\n",
    "#     }),\n",
    "#     \"Logistic Regression\": (LogisticRegression(max_iter=500), {  # max_iter réduit\n",
    "#         \"C\": [0.1, 1],  # Seulement 2 valeurs\n",
    "#         \"penalty\": [\"l2\"],  # Suppression de \"l1\"\n",
    "#         \"solver\": [\"liblinear\"]\n",
    "#     }),\n",
    "#     \"Passive Aggressive\": (PassiveAggressiveClassifier(max_iter=500), {  # max_iter réduit\n",
    "#         \"C\": [0.1, 1]  # Seulement 2 valeurs\n",
    "#     }),\n",
    "#     \"Random Forest\": (RandomForestClassifier(random_state=42), {\n",
    "#         \"n_estimators\": [50, 100],  # Suppression de 200\n",
    "#         \"max_depth\": [None, 10]  # Moins de tests sur la profondeur\n",
    "#     }),\n",
    "#     \"SVM\": (SVC(kernel=\"linear\"), {\n",
    "#         \"C\": [0.1, 1]  # Réduction du nombre de tests\n",
    "#     }),\n",
    "#     \"XGBoost\": (XGBClassifier(eval_metric=\"logloss\", use_label_encoder=False), {\n",
    "#         \"n_estimators\": [50, 100],  # Suppression de 200\n",
    "#         \"max_depth\": [3, 5],  # Réduction de 7\n",
    "#         \"learning_rate\": [0.1]  # Suppression de 0.01 et 0.3\n",
    "#     })\n",
    "# }\n",
    "\n",
    "# # Stocker les résultats\n",
    "# results = {}\n",
    "\n",
    "# # Boucle sur chaque modèle pour trouver les meilleurs hyperparamètres avec GridSearchCV\n",
    "# for name, (model, params) in param_grid.items():\n",
    "#     print(f\"Optimisation de {name} avec GridSearchCV...\")\n",
    "    \n",
    "#     grid_search = GridSearchCV(model, params, cv=5, scoring=\"accuracy\", n_jobs=-1)\n",
    "#     grid_search.fit(x_train, y_train)\n",
    "    \n",
    "#     # Meilleur modèle et prédictions\n",
    "#     best_model = grid_search.best_estimator_\n",
    "#     y_pred = best_model.predict(x_test)\n",
    "    \n",
    "#     # Stocker les résultats\n",
    "#     results[name] = {\n",
    "#         \"best_params\": grid_search.best_params_,\n",
    "#         \"accuracy\": accuracy_score(y_test, y_pred),\n",
    "#         \"classification_report\": classification_report(y_test, y_pred, target_names=label_encoder.classes_),\n",
    "#         \"confusion_matrix\": confusion_matrix(y_test, y_pred)\n",
    "#     }\n",
    "    \n",
    "#     print(f\"\\n=== {name} ===\")\n",
    "#     print(f\"Meilleurs paramètres: {grid_search.best_params_}\")\n",
    "#     print(f\"Accuracy: {results[name]['accuracy']:.4f}\")\n",
    "#     print(results[name][\"classification_report\"])\n",
    "\n",
    "# # Affichage des matrices de confusion\n",
    "# labels = label_encoder.classes_\n",
    "\n",
    "# fig, axes = plt.subplots(2, 3, figsize=(15, 10))\n",
    "# axes = axes.ravel()\n",
    "\n",
    "# for i, (name, res) in enumerate(results.items()):\n",
    "#     sns.heatmap(res[\"confusion_matrix\"], annot=True, fmt=\"d\", cmap=\"Blues\",\n",
    "#                 xticklabels=labels, yticklabels=labels, ax=axes[i])\n",
    "#     axes[i].set_title(f\"Matrice de confusion - {name}\")\n",
    "#     axes[i].set_xlabel(\"Prédictions\")\n",
    "#     axes[i].set_ylabel(\"Réel\")\n",
    "\n",
    "# plt.tight_layout()\n",
    "# plt.show()"
   ]
  },
  {
   "cell_type": "code",
   "execution_count": null,
   "metadata": {},
   "outputs": [
    {
     "name": "stdout",
     "output_type": "stream",
     "text": [
      "Testing model: Naïve Bayes\n",
      "Phrase: I feel lost and hopeless, everything seems so dark.\n",
      "Prediction: Déprimé\n",
      "Réel: Déprimé\n",
      "--------------------------------------------------\n",
      "Phrase: I had a wonderful day, everything went smoothly and I feel really happy.\n",
      "Prediction: Non Déprimé\n",
      "Réel: Non Déprimé\n",
      "--------------------------------------------------\n",
      "Phrase: I can't seem to get out of bed, everything feels so overwhelming.\n",
      "Prediction: Non Déprimé\n",
      "Réel: Déprimé\n",
      "--------------------------------------------------\n",
      "Phrase: I am so grateful for my family and my work, I feel truly blessed.\n",
      "Prediction: Non Déprimé\n",
      "Réel: Non Déprimé\n",
      "--------------------------------------------------\n",
      "Phrase: Life seems so difficult and I don't know how to keep going.\n",
      "Prediction: Non Déprimé\n",
      "Réel: Déprimé\n",
      "--------------------------------------------------\n",
      "Phrase: I feel so alone, like nobody understands me.\n",
      "Prediction: Non Déprimé\n",
      "Réel: Déprimé\n",
      "--------------------------------------------------\n",
      "Phrase: Everything feels too much to handle right now.\n",
      "Prediction: Non Déprimé\n",
      "Réel: Déprimé\n",
      "--------------------------------------------------\n",
      "Phrase: I just want to give up, nothing feels worth it anymore.\n",
      "Prediction: Non Déprimé\n",
      "Réel: Déprimé\n",
      "--------------------------------------------------\n",
      "Phrase: I can't remember the last time I felt happy or at peace.\n",
      "Prediction: Non Déprimé\n",
      "Réel: Déprimé\n",
      "--------------------------------------------------\n",
      "Phrase: I'm feeling great today, everything is going well.\n",
      "Prediction: Non Déprimé\n",
      "Réel: Non Déprimé\n",
      "--------------------------------------------------\n",
      "Phrase: I had a really productive day, and I'm proud of what I accomplished.\n",
      "Prediction: Non Déprimé\n",
      "Réel: Non Déprimé\n",
      "--------------------------------------------------\n",
      "Phrase: Spending time with friends always lifts my mood.\n",
      "Prediction: Non Déprimé\n",
      "Réel: Non Déprimé\n",
      "--------------------------------------------------\n",
      "Testing model: Logistic Regression\n",
      "Phrase: I feel lost and hopeless, everything seems so dark.\n",
      "Prediction: Déprimé\n",
      "Réel: Déprimé\n",
      "--------------------------------------------------\n",
      "Phrase: I had a wonderful day, everything went smoothly and I feel really happy.\n",
      "Prediction: Non Déprimé\n",
      "Réel: Non Déprimé\n",
      "--------------------------------------------------\n",
      "Phrase: I can't seem to get out of bed, everything feels so overwhelming.\n",
      "Prediction: Non Déprimé\n",
      "Réel: Déprimé\n",
      "--------------------------------------------------\n",
      "Phrase: I am so grateful for my family and my work, I feel truly blessed.\n",
      "Prediction: Non Déprimé\n",
      "Réel: Non Déprimé\n",
      "--------------------------------------------------\n",
      "Phrase: Life seems so difficult and I don't know how to keep going.\n",
      "Prediction: Non Déprimé\n",
      "Réel: Déprimé\n",
      "--------------------------------------------------\n",
      "Phrase: I feel so alone, like nobody understands me.\n",
      "Prediction: Non Déprimé\n",
      "Réel: Déprimé\n",
      "--------------------------------------------------\n",
      "Phrase: Everything feels too much to handle right now.\n",
      "Prediction: Non Déprimé\n",
      "Réel: Déprimé\n",
      "--------------------------------------------------\n",
      "Phrase: I just want to give up, nothing feels worth it anymore.\n",
      "Prediction: Non Déprimé\n",
      "Réel: Déprimé\n",
      "--------------------------------------------------\n",
      "Phrase: I can't remember the last time I felt happy or at peace.\n",
      "Prediction: Non Déprimé\n",
      "Réel: Déprimé\n",
      "--------------------------------------------------\n",
      "Phrase: I'm feeling great today, everything is going well.\n",
      "Prediction: Non Déprimé\n",
      "Réel: Non Déprimé\n",
      "--------------------------------------------------\n",
      "Phrase: I had a really productive day, and I'm proud of what I accomplished.\n",
      "Prediction: Non Déprimé\n",
      "Réel: Non Déprimé\n",
      "--------------------------------------------------\n",
      "Phrase: Spending time with friends always lifts my mood.\n",
      "Prediction: Non Déprimé\n",
      "Réel: Non Déprimé\n",
      "--------------------------------------------------\n",
      "Testing model: Passive Aggressive\n",
      "Phrase: I feel lost and hopeless, everything seems so dark.\n",
      "Prediction: Déprimé\n",
      "Réel: Déprimé\n",
      "--------------------------------------------------\n",
      "Phrase: I had a wonderful day, everything went smoothly and I feel really happy.\n",
      "Prediction: Non Déprimé\n",
      "Réel: Non Déprimé\n",
      "--------------------------------------------------\n",
      "Phrase: I can't seem to get out of bed, everything feels so overwhelming.\n",
      "Prediction: Non Déprimé\n",
      "Réel: Déprimé\n",
      "--------------------------------------------------\n",
      "Phrase: I am so grateful for my family and my work, I feel truly blessed.\n",
      "Prediction: Non Déprimé\n",
      "Réel: Non Déprimé\n",
      "--------------------------------------------------\n",
      "Phrase: Life seems so difficult and I don't know how to keep going.\n",
      "Prediction: Déprimé\n",
      "Réel: Déprimé\n",
      "--------------------------------------------------\n",
      "Phrase: I feel so alone, like nobody understands me.\n",
      "Prediction: Non Déprimé\n",
      "Réel: Déprimé\n",
      "--------------------------------------------------\n",
      "Phrase: Everything feels too much to handle right now.\n",
      "Prediction: Déprimé\n",
      "Réel: Déprimé\n",
      "--------------------------------------------------\n",
      "Phrase: I just want to give up, nothing feels worth it anymore.\n",
      "Prediction: Non Déprimé\n",
      "Réel: Déprimé\n",
      "--------------------------------------------------\n",
      "Phrase: I can't remember the last time I felt happy or at peace.\n",
      "Prediction: Non Déprimé\n",
      "Réel: Déprimé\n",
      "--------------------------------------------------\n",
      "Phrase: I'm feeling great today, everything is going well.\n",
      "Prediction: Non Déprimé\n",
      "Réel: Non Déprimé\n",
      "--------------------------------------------------\n",
      "Phrase: I had a really productive day, and I'm proud of what I accomplished.\n",
      "Prediction: Non Déprimé\n",
      "Réel: Non Déprimé\n",
      "--------------------------------------------------\n",
      "Phrase: Spending time with friends always lifts my mood.\n",
      "Prediction: Non Déprimé\n",
      "Réel: Non Déprimé\n",
      "--------------------------------------------------\n",
      "Naïve Bayes -- Accuracy: 50.00%\n",
      "Logistic Regression -- Accuracy: 50.00%\n",
      "Passive Aggressive -- Accuracy: 66.67%\n"
     ]
    }
   ],
   "source": [
    "# 4. **Test sur une nouvelle phrase**\n",
    "\n",
    "\n",
    "\n",
    "# Liste des modèles avec leurs noms\n",
    "models = {\n",
    "    \"Naïve Bayes\": na,\n",
    "    \"Logistic Regression\": log_reg,\n",
    "    \"Passive Aggressive\": pac,\n",
    "    # \"Random Forest\": rf,\n",
    "    # \"SVM\": svm,\n",
    "    # \"XGBoost\": xgb\n",
    "}\n",
    "\n",
    "\n",
    "# Liste de phrases de test (avec des phrases exprimant la dépression et la non-dépression)\n",
    "test_phrases = [\n",
    "    \"I feel lost and hopeless, everything seems so dark.\",  # Déprimé\n",
    "    \"I had a wonderful day, everything went smoothly and I feel really happy.\",  # Non Déprimé\n",
    "    \"I can't seem to get out of bed, everything feels so overwhelming.\",  # Déprimé\n",
    "    \"I am so grateful for my family and my work, I feel truly blessed.\",  # Non Déprimé\n",
    "    \"Life seems so difficult and I don't know how to keep going.\",  # Déprimé\n",
    "    \"I feel so alone, like nobody understands me.\", # Déprimé\n",
    "    \"Everything feels too much to handle right now.\", # Déprimé\n",
    "    \"I just want to give up, nothing feels worth it anymore.\" , #Déprimé\n",
    "    \"I can't remember the last time I felt happy or at peace.\", #Déprimé\n",
    "    \"I'm feeling great today, everything is going well.\",  #Non Déprimé\n",
    "    \"I had a really productive day, and I'm proud of what I accomplished.\", #Non Déprimé\n",
    "    \"Spending time with friends always lifts my mood.\" #Non Déprimé\n",
    "]\n",
    "\n",
    "# Véritables labels pour ces phrases (dépression ou non-dépression)\n",
    "y_true = ['Déprimé', 'Non Déprimé', 'Déprimé', 'Non Déprimé', 'Déprimé', 'Déprimé','Déprimé', 'Déprimé','Déprimé', 'Non Déprimé' , 'Non Déprimé' , 'Non Déprimé']\n",
    "\n",
    "\n",
    "# Transformation de la nouvelle phrase avec TF-IDF\n",
    "x_test_new = tfidf_vectorizer.transform(test_phrases)\n",
    "\n",
    "\n",
    "acc = {}\n",
    "# Affichage des résultats pour chaque modèle\n",
    "for model_name, model in models.items():\n",
    "    print(f\"Testing model: {model_name}\")\n",
    "    \n",
    "    # Prédiction du modèle sur les nouvelles phrases\n",
    "    predictions = model.predict(x_test_new)\n",
    "\n",
    "    # Affichage des résultats pour chaque phrase\n",
    "    for i, phrase in enumerate(test_phrases):\n",
    "        label = label_encoder.inverse_transform([predictions[i]])[0]\n",
    "        true_label = y_true[i]\n",
    "        print(f\"Phrase: {phrase}\")\n",
    "        print(f\"Prediction: {label}\")\n",
    "        print(f\"Réel: {true_label}\")\n",
    "        print(\"-\" * 50)\n",
    "     # Calcul de l'accuracy pour ce modèle\n",
    "    accuracy = accuracy_score(y_true, label_encoder.inverse_transform(predictions))\n",
    "    # Calcul de l'accuracy\n",
    "    acc[model_name] = accuracy\n",
    "    # print(f\"{model_name}--Accuracy: {accuracy * 100:.2f}%\")\n",
    "    # print(\"=\" * 50)\n",
    "\n",
    "\n",
    "for key, value in acc.items():\n",
    "    print(f\"{key} -- Accuracy: {value * 100:.2f}%\")\n",
    "   \n",
    "\n"
   ]
  },
  {
   "cell_type": "code",
   "execution_count": null,
   "metadata": {},
   "outputs": [
    {
     "data": {
      "image/png": "[encoded data removed]",
      "text/plain": [
       "<Figure size 1000x600 with 1 Axes>"
      ]
     },
     "metadata": {},
     "output_type": "display_data"
    }
   ],
   "source": [
    "# Création d'un graphique pour comparer l'accuracy de chaque modèle\n",
    "import matplotlib.pyplot as plt\n",
    "\n",
    "# Extraire les noms des modèles et les accuracies\n",
    "models_names = list(acc.keys())\n",
    "accuracies = list(acc.values())\n",
    "\n",
    "# Créer un diagramme en barres\n",
    "plt.figure(figsize=(10, 6))\n",
    "plt.bar(models_names, accuracies, color='skyblue')\n",
    "\n",
    "# Ajouter les titres et labels\n",
    "plt.title(\"Comparaison de l'Accuracy des Modèles sur les Nouvelles Phrases\")\n",
    "plt.xlabel(\"Modèles\")\n",
    "plt.ylabel(\"Accuracy (%)\")\n",
    "\n",
    "# Afficher les valeurs d'accuracy au-dessus de chaque barre\n",
    "for i, accuracy in enumerate(accuracies):\n",
    "    plt.text(i, accuracy + 0.01, f\"{accuracy * 100:.2f}%\", ha='center')\n",
    "\n",
    "# Afficher le graphique\n",
    "plt.show()"
   ]
  },
  {
   "cell_type": "markdown",
   "metadata": {},
   "source": [
    "### Test\n",
    "\n",
    "Naïve Bayes - Accuracy: 79.49%\n",
    "\n",
    "Logistic Regression - Accuracy: 82.80%\n",
    "\n",
    "Passive Aggressive - Accuracy: 83.20%\n",
    "\n",
    "Random Forest - Accuracy: 79.69%\n",
    "\n",
    "SVM - Accuracy: 83.60%\n",
    "\n",
    "XGBoost - Accuracy: 76.68%\n",
    "\n",
    "### Test final \n",
    "\n",
    "Naïve Bayes -- Accuracy: 75.00%\n",
    "\n",
    "Logistic Regression -- Accuracy: 66.67%\n",
    "\n",
    "Passive Aggressive -- Accuracy: 66.67%\n",
    "\n",
    "Random Forest -- Accuracy: 50.00%\n",
    "\n",
    "SVM -- Accuracy: 66.67%\n",
    "\n",
    "XGBoost -- Accuracy: 50.00%"
   ]
  },
  {
   "cell_type": "code",
   "execution_count": null,
   "metadata": {},
   "outputs": [],
   "source": [
    "import pickle"
   ]
  },
  {
   "cell_type": "code",
   "execution_count": null,
   "metadata": {},
   "outputs": [],
   "source": [
    "# \"Naïve Bayes\": na,\n",
    "# \"Logistic Regression\": log_reg,\n",
    "# \"Passive Aggressive\": pac,\n",
    "# \"Random Forest\": rf,\n",
    "# \"SVM\": svm,\n",
    "# \"XGBoost\": xgb\n",
    "\n",
    "\n",
    "with open ( 'model_passive_agressive.pkl', 'wb' ) as file :\n",
    "     pickle.dump(pac , file)\n",
    "\n",
    "with open ( 'encodeurs.pkl', 'wb' ) as file :\n",
    "     pickle.dump(label_encoder , file)\n",
    "\n",
    "with open ( 'tfidf.pkl', 'wb' ) as file :\n",
    "     pickle.dump(tfidf_vectorizer , file)\n"
   ]
  },
  {
   "cell_type": "code",
   "execution_count": null,
   "metadata": {},
   "outputs": [],
   "source": [
    "# Charger les objets sauvegardés\n",
    "with open('model_passive_agressive.pkl', 'rb') as file:\n",
    "    passive_agg = pickle.load(file)\n",
    "\n",
    "with open('encodeurs.pkl', 'rb') as file:\n",
    "    encodeur = pickle.load(file)\n",
    "\n",
    "with open('tfidf.pkl', 'rb') as file:\n",
    "    tfidf = pickle.load(file)"
   ]
  },
  {
   "cell_type": "code",
   "execution_count": null,
   "metadata": {},
   "outputs": [],
   "source": [
    "# Liste de phrases de test (avec des phrases exprimant la dépression et la non-dépression)\n",
    "test_phrases = [\n",
    "    \"I feel lost and hopeless, everything seems so dark.\",  # Déprimé\n",
    "    \"I had a wonderful day, everything went smoothly and I feel really happy.\",  # Non Déprimé\n",
    "    \"I can't seem to get out of bed, everything feels so overwhelming.\",  # Déprimé\n",
    "    \"I am so grateful for my family and my work, I feel truly blessed.\",  # Non Déprimé\n",
    "    \"Life seems so difficult and I don't know how to keep going.\",  # Déprimé\n",
    "    \"I feel so alone, like nobody understands me.\", # Déprimé\n",
    "    \"Everything feels too much to handle right now.\", # Déprimé\n",
    "    \"I just want to give up, nothing feels worth it anymore.\" , #Déprimé\n",
    "    \"I can't remember the last time I felt happy or at peace.\", #Déprimé\n",
    "    \"I'm feeling great today, everything is going well.\",  #Non Déprimé\n",
    "    \"I had a really productive day, and I'm proud of what I accomplished.\", #Non Déprimé\n",
    "    \"Spending time with friends always lifts my mood.\" #Non Déprimé\n",
    "]\n",
    "\n",
    "# Véritables labels pour ces phrases (dépression ou non-dépression)\n",
    "y_true = ['Déprimé', 'Non Déprimé', 'Déprimé', 'Non Déprimé', 'Déprimé', 'Déprimé','Déprimé', 'Déprimé','Déprimé', 'Non Déprimé' , 'Non Déprimé' , 'Non Déprimé']"
   ]
  },
  {
   "cell_type": "code",
   "execution_count": null,
   "metadata": {},
   "outputs": [],
   "source": [
    "# Transformer les nouvelles phrases avec le `tfidf_vectorizer`\n",
    "x_test_new = tfidf.transform(test_phrases)\n",
    "\n",
    "# Prédiction avec le modèle chargé\n",
    "predictions = passive_agg.predict(x_test_new)\n",
    "\n",
    "# Inverse transformation des prédictions pour récupérer les labels en texte\n",
    "predicted_labels = encodeur.inverse_transform(predictions)"
   ]
  },
  {
   "cell_type": "code",
   "execution_count": null,
   "metadata": {},
   "outputs": [
    {
     "name": "stdout",
     "output_type": "stream",
     "text": [
      "Phrase: I feel lost and hopeless, everything seems so dark.\n",
      "Prediction: Déprimé\n",
      "Réel: Déprimé\n",
      "--------------------------------------------------\n",
      "Phrase: I had a wonderful day, everything went smoothly and I feel really happy.\n",
      "Prediction: Non Déprimé\n",
      "Réel: Non Déprimé\n",
      "--------------------------------------------------\n",
      "Phrase: I can't seem to get out of bed, everything feels so overwhelming.\n",
      "Prediction: Non Déprimé\n",
      "Réel: Déprimé\n",
      "--------------------------------------------------\n",
      "Phrase: I am so grateful for my family and my work, I feel truly blessed.\n",
      "Prediction: Non Déprimé\n",
      "Réel: Non Déprimé\n",
      "--------------------------------------------------\n",
      "Phrase: Life seems so difficult and I don't know how to keep going.\n",
      "Prediction: Déprimé\n",
      "Réel: Déprimé\n",
      "--------------------------------------------------\n",
      "Phrase: I feel so alone, like nobody understands me.\n",
      "Prediction: Non Déprimé\n",
      "Réel: Déprimé\n",
      "--------------------------------------------------\n",
      "Phrase: Everything feels too much to handle right now.\n",
      "Prediction: Déprimé\n",
      "Réel: Déprimé\n",
      "--------------------------------------------------\n",
      "Phrase: I just want to give up, nothing feels worth it anymore.\n",
      "Prediction: Non Déprimé\n",
      "Réel: Déprimé\n",
      "--------------------------------------------------\n",
      "Phrase: I can't remember the last time I felt happy or at peace.\n",
      "Prediction: Non Déprimé\n",
      "Réel: Déprimé\n",
      "--------------------------------------------------\n",
      "Phrase: I'm feeling great today, everything is going well.\n",
      "Prediction: Non Déprimé\n",
      "Réel: Non Déprimé\n",
      "--------------------------------------------------\n",
      "Phrase: I had a really productive day, and I'm proud of what I accomplished.\n",
      "Prediction: Non Déprimé\n",
      "Réel: Non Déprimé\n",
      "--------------------------------------------------\n",
      "Phrase: Spending time with friends always lifts my mood.\n",
      "Prediction: Non Déprimé\n",
      "Réel: Non Déprimé\n",
      "--------------------------------------------------\n",
      "Accuracy: 66.67%\n"
     ]
    }
   ],
   "source": [
    "# Affichage des résultats pour chaque phrase\n",
    "for i, phrase in enumerate(test_phrases):\n",
    "    label = predicted_labels[i]\n",
    "    true_label = y_true[i]\n",
    "    print(f\"Phrase: {phrase}\")\n",
    "    print(f\"Prediction: {label}\")\n",
    "    print(f\"Réel: {true_label}\")\n",
    "    print(\"-\" * 50)\n",
    "\n",
    "# Calcul de l'accuracy\n",
    "accuracy = accuracy_score(y_true, predicted_labels)\n",
    "print(f\"Accuracy: {accuracy * 100:.2f}%\")"
   ]
  }
 ],
 "metadata": {
  "kernelspec": {
   "display_name": "Python 3",
   "language": "python",
   "name": "python3"
  },
  "language_info": {
   "codemirror_mode": {
    "name": "ipython",
    "version": 3
   },
   "file_extension": ".py",
   "mimetype": "text/x-python",
   "name": "python",
   "nbconvert_exporter": "python",
   "pygments_lexer": "ipython3",
   "version": "3.11.8"
  }
 },
 "nbformat": 4,
 "nbformat_minor": 2
}
